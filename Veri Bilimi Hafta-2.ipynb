{
 "cells": [
  {
   "cell_type": "markdown",
   "id": "accb5f6d-e94d-4143-b75f-e2211c32bcb0",
   "metadata": {},
   "source": [
    "# SORULAR"
   ]
  },
  {
   "cell_type": "markdown",
   "id": "7f4e2f1b-7185-47e3-a2e0-f8db41c4d0bf",
   "metadata": {},
   "source": [
    "## Soru1 - Sayı Analizi"
   ]
  },
  {
   "cell_type": "code",
   "execution_count": 10,
   "id": "2ec3d9c5-86c3-42f7-b726-d583f2441eda",
   "metadata": {},
   "outputs": [
    {
     "name": "stdout",
     "output_type": "stream",
     "text": [
      "Lütfen bir sayı giriniz:  17\n"
     ]
    },
    {
     "name": "stdout",
     "output_type": "stream",
     "text": [
      "Sayı pozitif ve tektir.\n"
     ]
    }
   ],
   "source": [
    "sayi = int(input(\"Lütfen bir sayı giriniz: \"))\n",
    "if sayi > 0:\n",
    "    if sayi % 2 == 0:\n",
    "      print(\"Sayı pozitif ve çifttir.\")\n",
    "    else:\n",
    "      print(\"Sayı pozitif ve tektir.\")\n",
    "elif sayi < 0:\n",
    "    if sayi % 2 == 0:\n",
    "      print(\"Sayı negatif ve çifttir.\")\n",
    "    else:\n",
    "      print(\"Sayı negatif ve tektir.\")\n",
    "else:\n",
    "    print(\"Sayı sıfırdır.\")\n"
   ]
  },
  {
   "cell_type": "markdown",
   "id": "7cc7a2be-4a44-4fac-b998-90247eea951a",
   "metadata": {},
   "source": [
    "## Soru 2 – Harf Frekansı (String)"
   ]
  },
  {
   "cell_type": "code",
   "execution_count": 13,
   "id": "b6b2e552-bd54-4cf9-9348-7445795706c6",
   "metadata": {},
   "outputs": [
    {
     "name": "stdout",
     "output_type": "stream",
     "text": [
      "Lütfen bir kelime giriniz:  araba\n"
     ]
    },
    {
     "name": "stdout",
     "output_type": "stream",
     "text": [
      "{'a': 3, 'r': 1, 'b': 1}\n"
     ]
    }
   ],
   "source": [
    "kelime = input(\"Lütfen bir kelime giriniz: \")\n",
    "frekans = {}\n",
    "for harf in kelime:\n",
    "    frekans[harf] = kelime.count(harf)\n",
    "print(frekans)"
   ]
  },
  {
   "cell_type": "markdown",
   "id": "2ef68694-8bb2-4c61-ac91-3765d432d350",
   "metadata": {},
   "source": [
    " ## Soru 3 – Şifre Kontrolü (String Metotları)"
   ]
  },
  {
   "cell_type": "code",
   "execution_count": 16,
   "id": "ce1f5b5b-7d82-4ace-bf97-0ea53e2e18e1",
   "metadata": {},
   "outputs": [
    {
     "name": "stdout",
     "output_type": "stream",
     "text": [
      "Lütfen bir şifre giriniz:  AB1308\n"
     ]
    },
    {
     "name": "stdout",
     "output_type": "stream",
     "text": [
      "Şifre geçersiz.\n",
      "Şifre en az 8 karakterli olmalıdır.\n"
     ]
    }
   ],
   "source": [
    "sifre = input(\"Lütfen bir şifre giriniz: \")\n",
    "uzunluk = len(sifre) >= 8\n",
    "buyuk_harf = any(harf.isupper() for harf in sifre)\n",
    "rakam = any(karakter.isdigit() for karakter in sifre )\n",
    "if uzunluk and buyuk_harf and rakam:\n",
    "    print(\"Şifre geçerli.\")\n",
    "else:\n",
    "    print(\"Şifre geçersiz.\")\n",
    "    if not uzunluk:\n",
    "        print(\"Şifre en az 8 karakterli olmalıdır.\")\n",
    "    if not buyuk_harf:\n",
    "        print(\"Şifre en az 1 büyük harf içermeli.\")\n",
    "    if not rakam:\n",
    "        print(\"Şifre en az 1 rakam içermeli.\")"
   ]
  },
  {
   "cell_type": "markdown",
   "id": "3d41b631-828f-41e5-a92b-0cc865f63a2f",
   "metadata": {},
   "source": [
    "## Soru 4 – Liste İşlemleri"
   ]
  },
  {
   "cell_type": "code",
   "execution_count": 21,
   "id": "48a4149f-b56c-43f9-8e76-6725498f5aaf",
   "metadata": {},
   "outputs": [
    {
     "name": "stdout",
     "output_type": "stream",
     "text": [
      "Ortalama: 15.0\n",
      "Ortalamadan büyük sayılar: [25, 30, 18]\n"
     ]
    }
   ],
   "source": [
    "sayilar = [12, 4, 9, 25, 30, 7, 18] \n",
    "ortalama = sum(sayilar) / len(sayilar)\n",
    "print(\"Ortalama:\", ortalama)\n",
    "buyuk_sayilar = []\n",
    "for sayi in sayilar:\n",
    "    if sayi > ortalama:\n",
    "        buyuk_sayilar.append(sayi)\n",
    "print(\"Ortalamadan büyük sayılar:\",buyuk_sayilar)\n"
   ]
  },
  {
   "cell_type": "markdown",
   "id": "ad44538d-1bc8-4324-b833-c82c810e4a0b",
   "metadata": {},
   "source": [
    "## Soru 5 – Nested Loop (Desen)"
   ]
  },
  {
   "cell_type": "code",
   "execution_count": 22,
   "id": "3e5835ca-7538-4368-976c-582e41373e2c",
   "metadata": {},
   "outputs": [
    {
     "name": "stdout",
     "output_type": "stream",
     "text": [
      "*\n",
      "**\n",
      "***\n",
      "****\n",
      "*****\n"
     ]
    }
   ],
   "source": [
    "satir_sayisi = 5\n",
    "for i in range(1, satir_sayisi+1):\n",
    "    print(\"*\" * i)"
   ]
  },
  {
   "cell_type": "markdown",
   "id": "5246ba59-6f7c-4ee5-a4ce-51ea53f46198",
   "metadata": {},
   "source": [
    "## Soru 6 – While Döngüsü"
   ]
  },
  {
   "cell_type": "code",
   "execution_count": 30,
   "id": "b0c96fb8-8ec2-4d13-8467-f6f483447f36",
   "metadata": {},
   "outputs": [
    {
     "name": "stdout",
     "output_type": "stream",
     "text": [
      "Lütfen bir sayı giriniz: 5\n",
      "Lütfen bir sayı giriniz: 10\n",
      "Lütfen bir sayı giriniz: 17\n",
      "Lütfen bir sayı giriniz: 8\n",
      "Lütfen bir sayı giriniz: 0\n"
     ]
    },
    {
     "name": "stdout",
     "output_type": "stream",
     "text": [
      "Toplam: 40\n",
      "Ortalama: 10.0\n"
     ]
    }
   ],
   "source": [
    "toplam = 0\n",
    "adet = 0\n",
    "while True:\n",
    "    sayi = int(input(\"Lütfen bir sayı giriniz:\"))\n",
    "    if sayi == 0:\n",
    "      break\n",
    "    toplam += sayi \n",
    "    adet += 1\n",
    "                     \n",
    "if adet > 0:\n",
    "     ortalama = toplam / adet\n",
    "     print(\"Toplam:\", toplam)\n",
    "     print(\"Ortalama:\", ortalama)\n",
    "else: \n",
    "    print(\"Hiç sayı girilmedi.\")               \n",
    "               \n",
    "               \n",
    "               \n"
   ]
  },
  {
   "cell_type": "markdown",
   "id": "76e40fc3-5642-4dac-8056-f20a6813fcfa",
   "metadata": {},
   "source": [
    "## Soru 7 – Palindrom Kontrolü"
   ]
  },
  {
   "cell_type": "code",
   "execution_count": 32,
   "id": "c4726eb1-98c1-4226-a891-2b2e026fa8ad",
   "metadata": {},
   "outputs": [
    {
     "name": "stdout",
     "output_type": "stream",
     "text": [
      "Lütfen bir kelime giriniz: ekmek\n"
     ]
    },
    {
     "name": "stdout",
     "output_type": "stream",
     "text": [
      "Palindrom değil.\n"
     ]
    }
   ],
   "source": [
    "kelime = input(\"Lütfen bir kelime giriniz:\")\n",
    "ters = kelime[::-1]\n",
    "if kelime == ters:\n",
    "    print(\"Palindrom.\")\n",
    "else:\n",
    "    print(\"Palindrom değil.\")"
   ]
  },
  {
   "cell_type": "markdown",
   "id": "5311a87b-ccd5-4dda-a380-32e910fe25c5",
   "metadata": {},
   "source": [
    "## Soru 8 – List Comprehension"
   ]
  },
  {
   "cell_type": "code",
   "execution_count": 35,
   "id": "6e8488e2-960f-4076-9a36-535c316c5685",
   "metadata": {},
   "outputs": [
    {
     "name": "stdout",
     "output_type": "stream",
     "text": [
      "[225, 900, 2025, 3600, 5625, 8100]\n"
     ]
    }
   ],
   "source": [
    "kareler = [sayi**2 for sayi in range(1,101) if sayi % 3 == 0 and sayi % 5 == 0]\n",
    "print(kareler)"
   ]
  },
  {
   "cell_type": "markdown",
   "id": "fc26e453-c345-4c5f-8b17-1768f2561d34",
   "metadata": {},
   "source": [
    "## Soru 9 – String İşlemleri"
   ]
  },
  {
   "cell_type": "code",
   "execution_count": 37,
   "id": "44b00d77-355e-4c89-a513-a7a4bf0eaeaf",
   "metadata": {},
   "outputs": [
    {
     "name": "stdout",
     "output_type": "stream",
     "text": [
      "Lütfen bir cümle giriniz:  python ile veri bilimi öğreniyorum\n"
     ]
    },
    {
     "name": "stdout",
     "output_type": "stream",
     "text": [
      "Python Ile Veri Bilimi Öğreniyorum\n"
     ]
    }
   ],
   "source": [
    "cumle = input(\"Lütfen bir cümle giriniz: \")\n",
    "kelimeler = cumle.split()\n",
    "yeni_kelimeler = [kelime.capitalize() for kelime in kelimeler]\n",
    "yeni_cumle = \" \".join(yeni_kelimeler)\n",
    "print(yeni_cumle)"
   ]
  },
  {
   "cell_type": "markdown",
   "id": "e2a99ac6-5d9e-4479-9a9c-82181d012d94",
   "metadata": {},
   "source": [
    "## Mini Proje – Film Yorumu Analizi"
   ]
  },
  {
   "cell_type": "code",
   "execution_count": 44,
   "id": "8bf4a962-7eb2-48c5-84de-d04b85a0c393",
   "metadata": {},
   "outputs": [
    {
     "name": "stdout",
     "output_type": "stream",
     "text": [
      "Analiz etmek istediğiniz yorum sayısını giriniz:  5\n",
      "1. yorumu giriniz:  Beğenmedim.\n",
      "2. yorumu giriniz:  İzlediğim en kötü filmdi.\n",
      "3. yorumu giriniz:  İyi sayılır.\n",
      "4. yorumu giriniz:  Harikaydı.\n",
      "5. yorumu giriniz:  Zaman kaybı.\n"
     ]
    },
    {
     "name": "stdout",
     "output_type": "stream",
     "text": [
      "\n",
      "Yorumların uzunlukları: [11, 25, 12, 10, 12]\n",
      "Yorumlarda geçen toplam 'iyi' sayısı: 0\n",
      "En uzun yorum: İzlediğim en kötü filmdi.\n",
      "En kısa yorum: Harikaydı.\n",
      "Yorumların ortalama uzunluğu: 14.0\n"
     ]
    }
   ],
   "source": [
    "yorum_sayisi = int(input(\"Analiz etmek istediğiniz yorum sayısını giriniz: \"))\n",
    "yorumlar = []\n",
    "for i in range(yorum_sayisi):\n",
    "    yorum = input(f\"{i+1}. yorumu giriniz: \")\n",
    "    yorumlar.append(yorum)\n",
    "uzunluklar = [len(yorum) for yorum in yorumlar]\n",
    "iyi_sayisi = sum(1 for yorum in yorumlar if \"iyi\" in yorum.lower())\n",
    "en_uzun = max(yorumlar, key=len)\n",
    "en_kisa = min(yorumlar, key=len)\n",
    "ort_uzunluk = sum(uzunluklar) / len(uzunluklar)\n",
    "print(\"\\nYorumların uzunlukları:\",uzunluklar)\n",
    "print(\"Yorumlarda geçen toplam 'iyi' sayısı:\", iyi_sayisi)\n",
    "print(\"En uzun yorum:\",en_uzun)\n",
    "print(\"En kısa yorum:\",en_kisa)\n",
    "print(\"Yorumların ortalama uzunluğu:\",ort_uzunluk)"
   ]
  }
 ],
 "metadata": {
  "kernelspec": {
   "display_name": "Python [conda env:base] *",
   "language": "python",
   "name": "conda-base-py"
  },
  "language_info": {
   "codemirror_mode": {
    "name": "ipython",
    "version": 3
   },
   "file_extension": ".py",
   "mimetype": "text/x-python",
   "name": "python",
   "nbconvert_exporter": "python",
   "pygments_lexer": "ipython3",
   "version": "3.13.5"
  }
 },
 "nbformat": 4,
 "nbformat_minor": 5
}
